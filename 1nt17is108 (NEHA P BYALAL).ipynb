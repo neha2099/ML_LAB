{
 "cells": [
  {
   "cell_type": "code",
   "execution_count": null,
   "metadata": {},
   "outputs": [],
   "source": [
    "#calculator:"
   ]
  },
  {
   "cell_type": "code",
   "execution_count": 108,
   "metadata": {},
   "outputs": [],
   "source": [
    "def addition(num1,num2):\n",
    "    num1 = num1+num2\n",
    "    return num1\n",
    "def subtraction(num1,num2):\n",
    "    num1 = num1-num2\n",
    "    return num1\n",
    "def mul(num1,num2):\n",
    "    num1 *= num2\n",
    "    return num1\n",
    "def division(num1,num2):\n",
    "    num1 /= num2\n",
    "    return num1\n",
    "\n",
    "\n",
    "def default(num1,num2):\n",
    "    return \"Incorrect entry\"\n",
    "def calculator(num1,num2,option):\n",
    "    if (option==1):\n",
    "        return addition(num1,num2)\n",
    "    elif (option==2):\n",
    "        return subtraction(num1,num2)\n",
    "    elif(option==3):\n",
    "        return mul(num1,num2)\n",
    "    else:\n",
    "        return division(num1,num2)\n",
    "    "
   ]
  },
  {
   "cell_type": "code",
   "execution_count": 3,
   "metadata": {},
   "outputs": [
    {
     "name": "stdout",
     "output_type": "stream",
     "text": [
      "input165\n",
      "input277\n",
      "enter ur choice 1. addition 2.subtraction 3 multiplication 4 division23\n",
      "0.8441558441558441\n"
     ]
    }
   ],
   "source": [
    "var1 = int(input(\"input1\"))\n",
    "var2 = int(input(\"input2\"))\n",
    "choice =int(input(\"enter ur choice 1. addition 2.subtraction 3 multiplication 4 division\"))\n",
    "print(calculator(var1,var2,choice))"
   ]
  },
  {
   "cell_type": "code",
   "execution_count": null,
   "metadata": {},
   "outputs": [],
   "source": [
    "#mean median standardtization"
   ]
  },
  {
   "cell_type": "code",
   "execution_count": 4,
   "metadata": {},
   "outputs": [],
   "source": [
    "import math\n",
    "import numpy as np\n",
    "from sklearn.preprocessing import StandardScaler"
   ]
  },
  {
   "cell_type": "code",
   "execution_count": 5,
   "metadata": {},
   "outputs": [],
   "source": [
    "def mean(list):\n",
    "    total=0\n",
    "    for i in range(0,len(list)):\n",
    "        total+=list[i]\n",
    "    return (total/len(list))\n",
    "def median(list):\n",
    "    for i in range(0,len(list)-1):  \n",
    "        for j in range(len(list)-1):  \n",
    "            if(list[j]>list[j+1]):  \n",
    "                temp = list[j]  \n",
    "                list[j] = list[j+1]  \n",
    "                list[j+1] = temp \n",
    "    if((len(list)%2)==0):\n",
    "        \n",
    "        return (list[int(len(list)/2)]+list[int(len(list)/2)-1])/2\n",
    "    else:\n",
    "        return list[int(len(list)/2)]  \n",
    "\n",
    "     \n",
    "def mode(num_list):\n",
    "    unique_num_list =[]\n",
    "    unique_num_list =set(num_list)\n",
    "    dictionary ={}\n",
    "    for i in unique_num_list:\n",
    "      get_count = num_list.count(i)\n",
    "      dictionary[i]=get_count\n",
    "    max_repeat=0\n",
    "    for i in unique_num_list:\n",
    "      get_value=dictionary[i]\n",
    "      if get_value>max_repeat:\n",
    "        max_repeat= get_value\n",
    "    result=''    \n",
    "    for i in unique_num_list:\n",
    "        \n",
    "        if dictionary[i]==max_repeat:\n",
    "            result= result + str(i)+ \" \"    \n",
    "    return result          \n",
    "\n",
    "\n",
    "def calculate(list,var):\n",
    "    if (var==1):\n",
    "        return  mean(list)\n",
    "    elif (var==2):\n",
    "        return mode(list)\n",
    "    elif (var==3):\n",
    "        return median(list)\n",
    "    elif (var==4):\n",
    "        return standard(list)\n",
    "    elif (var==6):\n",
    "        return normalize(list)\n",
    "    elif (var==7):\n",
    "        return standardize(list)\n",
    "    else:\n",
    "        return variance(list)\n",
    "def standard(list):\n",
    "    n=mean(list)\n",
    "    temp=0\n",
    "    for i in list:\n",
    "        temp=temp +((i-n)**2)\n",
    "    sd=math.sqrt((temp/len(list)))\n",
    "    return sd\n",
    "def variance(list):\n",
    "    n=mean(list)\n",
    "    temp=0\n",
    "    for i in range(len(list)):\n",
    "        temp=temp +((i-n)**2)\n",
    "        sd=math.sqrt((temp/len(list)))\n",
    "        var=sd*sd\n",
    "    print(\"variance is {}\".format(var))\n",
    "def normalize(list):\n",
    "    n1=min(list)\n",
    "    n2= max(list)\n",
    "    n3=0\n",
    "    for i in list:\n",
    "        n3=((i-n1)/(n2-n1))\n",
    "        print(n3)\n",
    "def standardize(list):\n",
    "    n3=0\n",
    "    n1=mean(list)\n",
    "    n2=standard(list)\n",
    "    for i in list:\n",
    "        n3=((i-n1)/n2)\n",
    "        print(n3)\n",
    "    "
   ]
  },
  {
   "cell_type": "code",
   "execution_count": 6,
   "metadata": {},
   "outputs": [
    {
     "name": "stdout",
     "output_type": "stream",
     "text": [
      "1.mean 2 mode 3 median 4 Standard deviation 5 variance 6 normalization 7 standardization2\n",
      "195.5 122.3 105.6 110.2 110.9 115.3 116.3 120.5 90.4 125.4 \n"
     ]
    }
   ],
   "source": [
    "#list=[1,2,2,3,4,5]\n",
    "list =[115.3,195.5,120.5,110.2,90.4,105.6,110.9,116.3,122.3,125.4]\n",
    "var =int(input(\"1.mean 2 mode 3 median 4 Standard deviation 5 variance 6 normalization 7 standardization\"))\n",
    "print(calculate(list,var))\n"
   ]
  },
  {
   "cell_type": "code",
   "execution_count": 7,
   "metadata": {},
   "outputs": [
    {
     "name": "stdout",
     "output_type": "stream",
     "text": [
      "[0.0, 0.014285714285714285, 0.02857142857142857, 0.05714285714285714, 0.8571428571428571, 1.0]\n"
     ]
    }
   ],
   "source": [
    "#Normalize\n",
    "\n",
    "l=[1,10,20,40,600,700]\n",
    "def normalize(l):\n",
    "    for i in range(len(l)):\n",
    "        xmin=min(l)\n",
    "        xmax=max(l)\n",
    "        l[i]=(l[i]-xmin)/(xmax-xmin)\n",
    "    return l\n",
    "print(normalize(l))"
   ]
  },
  {
   "cell_type": "code",
   "execution_count": 8,
   "metadata": {},
   "outputs": [
    {
     "name": "stdout",
     "output_type": "stream",
     "text": [
      "[-0.7591579596366211, -0.72912533705759, -0.6957557564142219, -0.6290165951274861, 1.2396799209011198, 1.5733757273347995]\n"
     ]
    }
   ],
   "source": [
    "#Standardize\n",
    "\n",
    "l=[1,10,20,40,600,700]\n",
    "def standardize(l):\n",
    "    mean=sum(l)/len(l)\n",
    "    var=0\n",
    "    for i in range(len(l)):\n",
    "        var+=(l[i]-mean)**2\n",
    "    var=var/len(l)\n",
    "    import math\n",
    "    std=math.sqrt(var)\n",
    "    for i in range(len(l)):\n",
    "        l[i]=(l[i]-mean)/std\n",
    "    return l\n",
    "print(standardize(l))\n",
    "        "
   ]
  },
  {
   "cell_type": "code",
   "execution_count": 9,
   "metadata": {},
   "outputs": [
    {
     "name": "stdout",
     "output_type": "stream",
     "text": [
      "Cluster1--> [[5.9, 3.2], [4.6, 2.9], [4.7, 3.2], [5.0, 3.0], [4.9, 3.1], [5.1, 3.8], [6.0, 3.0]]\n",
      "Cluster2--> [[5.5, 4.2]]\n",
      "Cluster3--> [[6.2, 2.8], [6.7, 3.1]]\n"
     ]
    }
   ],
   "source": [
    "#Clusters\n",
    "import math\n",
    "c1=[]\n",
    "c2=[]\n",
    "c3=[]\n",
    "x1,y1=6.2,3.2\n",
    "x2,y2=6.6,3.7\n",
    "x3,y3=6.5,3.0\n",
    "\n",
    "p=[[5.9,3.2],\n",
    "  [4.6,2.9],\n",
    "  [6.2,2.8],\n",
    "  [4.7,3.2],\n",
    "  [5.5,4.2],\n",
    "  [5.0,3.0],\n",
    "  [4.9,3.1],\n",
    "  [6.7,3.1],\n",
    "  [5.1,3.8],\n",
    "  [6.0,3.0]]\n",
    "\n",
    "def eucledian(a,b):\n",
    "    d1=math.sqrt((a-x1)**2+(b-y1)**2)\n",
    "    d2=math.sqrt((a-x2)**2+(b-y2)**2)\n",
    "    d3=math.sqrt((a-x3)**2+(b-y3)**2)\n",
    "    mind=min(d1,d2,d3)\n",
    "    if(mind==d1):\n",
    "        c1.append([a,b])\n",
    "    elif(mind==d2):\n",
    "        c2.append([a,b])\n",
    "    else:\n",
    "        c3.append([a,b])\n",
    "        \n",
    "        \n",
    "for i,j in p:\n",
    "    eucledian(i,j)\n",
    "    \n",
    "print(\"Cluster1-->\",c1)\n",
    "print(\"Cluster2-->\",c2)\n",
    "print(\"Cluster3-->\",c3)"
   ]
  },
  {
   "cell_type": "code",
   "execution_count": null,
   "metadata": {},
   "outputs": [],
   "source": [
    "#buble sort"
   ]
  },
  {
   "cell_type": "code",
   "execution_count": 72,
   "metadata": {},
   "outputs": [
    {
     "name": "stdout",
     "output_type": "stream",
     "text": [
      "Sorted Array in Ascending Order:\n",
      "[1, 2, 3, 7, 9]\n"
     ]
    }
   ],
   "source": [
    "def bubbleSort(arr):\n",
    "    \n",
    "    for i in range(len(arr)):\n",
    "        \n",
    "        for j in range(0, len(arr) - i - 1):\n",
    "\n",
    "            if arr[j] > arr[j + 1]:\n",
    "\n",
    "        \n",
    "                temp = arr[j]\n",
    "                arr[j] = arr[j+1]\n",
    "                arr[j+1] = temp\n",
    "\n",
    "\n",
    "data = [1,7,3,2,9]\n",
    "bubbleSort(data)\n",
    "\n",
    "print('Sorted Array in Ascending Order:')\n",
    "print(data)\n",
    "            \n"
   ]
  },
  {
   "cell_type": "code",
   "execution_count": 78,
   "metadata": {},
   "outputs": [
    {
     "name": "stdout",
     "output_type": "stream",
     "text": [
      "Mean / Average is: 4.1000000000000005\n"
     ]
    }
   ],
   "source": [
    "num = [2,4,6.3]\n",
    "n = len(num)\n",
    "\n",
    "get_sum = sum(num)\n",
    "mean = get_sum / n\n",
    "\n",
    "print(\"Mean / Average is: \" + str(mean))"
   ]
  },
  {
   "cell_type": "code",
   "execution_count": 79,
   "metadata": {},
   "outputs": [
    {
     "name": "stdout",
     "output_type": "stream",
     "text": [
      "Median is: 3\n"
     ]
    }
   ],
   "source": [
    "num = [3,6,4,2,1]\n",
    "n = len(num)\n",
    "num.sort()\n",
    "\n",
    "if n % 2 == 0:\n",
    "\tmedian1 = num[n//2]\n",
    "\tmedian2 = num[n//2 - 1]\n",
    "\tmedian = (median1 + median2)/2\n",
    "else:\n",
    "\tmedian = num[n//2]\n",
    "print(\"Median is: \" + str(median))\n"
   ]
  },
  {
   "cell_type": "code",
   "execution_count": 81,
   "metadata": {},
   "outputs": [
    {
     "name": "stdout",
     "output_type": "stream",
     "text": [
      "Mode is / are: 5\n"
     ]
    }
   ],
   "source": [
    "from collections import Counter\n",
    "\n",
    "n_num = [1, 2, 3, 4, 5, 5]\n",
    "n = len(n_num)\n",
    "\n",
    "data = Counter(n_num)\n",
    "get_mode = dict(data)\n",
    "mode = [k for k, v in get_mode.items() if v == max((data.values()))]\n",
    "\n",
    "if len(mode) == n:\n",
    "\tget_mode = \"No mode found\"\n",
    "else:\n",
    "\tget_mode = \"Mode is / are: \" + ', '.join(map(str, mode))\n",
    "\t\n",
    "print(get_mode)"
   ]
  },
  {
   "cell_type": "code",
   "execution_count": null,
   "metadata": {},
   "outputs": [],
   "source": [
    "#kmeans"
   ]
  },
  {
   "cell_type": "code",
   "execution_count": 107,
   "metadata": {},
   "outputs": [
    {
     "name": "stdout",
     "output_type": "stream",
     "text": [
      "[1, 1, 3, 1, 2, 1, 1, 3, 1, 1]\n",
      "\n",
      "New centroids are\n",
      "cluster1 5.171428571428572 3.1714285714285713\n",
      "cluster2 5.5 4.2\n",
      "cluster3 6.45 2.95\n",
      "\n",
      " [3, 1, 3, 1, 2, 1, 1, 3, 2, 3]\n",
      "\n",
      "New centroids are\n",
      "cluster1 4.800000000000001 3.05\n",
      "cluster2 5.3 4.0\n",
      "cluster3 6.2 3.025\n",
      "\n",
      " [3, 1, 3, 1, 2, 1, 1, 3, 2, 3]\n",
      "\n",
      "New centroids are\n",
      "cluster1 4.800000000000001 3.05\n",
      "cluster2 5.3 4.0\n",
      "cluster3 6.2 3.025\n"
     ]
    }
   ],
   "source": [
    "\n",
    "import math\n",
    "cluster1 = []\n",
    "cluster2 = []\n",
    "cluster3 = []\n",
    "x1,y1 = 6.2,3.2\n",
    "x2,y2 = 6.6,3.7\n",
    "x3,y3 = 6.5,3.0\n",
    "points = [[5.9,3.2],\n",
    "           [4.6,2.9],\n",
    "           [6.2,2.8],\n",
    "           [4.7,3.2],\n",
    "           [5.5,4.2],\n",
    "           [5.0,3.0],\n",
    "           [4.9,3.1],\n",
    "           [6.7,3.1],\n",
    "           [5.1,3.8],\n",
    "           [6.0,3.0]]\n",
    "\n",
    "clist = []\n",
    "def eucledian_distance_1(a,b,xc1,yc1,xc2,yc2,xc3,yc3):\n",
    "    \n",
    "\n",
    "    dis1 = math.sqrt((a-xc1)**2 + (b-yc1)**2)\n",
    "    dis2 = math.sqrt((a-xc2)**2 + (b-yc2)**2)\n",
    "    dis3 = math.sqrt((a-xc3)**2 + (b-yc3)**2)\n",
    "    mind = min(dis1,dis2,dis3)\n",
    "    if(mind == dis1):\n",
    "        clist.append(1)\n",
    "        cluster1.append([a,b])\n",
    "    elif(mind==dis2):\n",
    "        clist.append(2)\n",
    "        cluster2.append([a,b])\n",
    "    else:\n",
    "        clist.append(3)\n",
    "        cluster3.append([a,b])\n",
    "    \n",
    "        \n",
    "def fnc(cls):\n",
    "    sumi = 0\n",
    "    sumj = 0\n",
    "    for i,j in cls:\n",
    "        sumi = sumi + i\n",
    "        sumj = sumj + j\n",
    "    ncx = (sumi/len(cls))\n",
    "    ncy = (sumj/len(cls))\n",
    "    return ncx,ncy\n",
    "\n",
    "for i,j in points:\n",
    "    eucledian_distance_1(i,j,x1,y1,x2,y2,x3,y3)\n",
    "    \n",
    "print(clist)\n",
    "\n",
    "clist = []\n",
    "nxc1,nyc1 = fnc(cluster1)\n",
    "nxc2,nyc2 = fnc(cluster2)\n",
    "nxc3,nyc3 = fnc(cluster3)\n",
    "\n",
    "print(\"\\nNew centroids are\")\n",
    "print(\"cluster1\",nxc1,nyc1)\n",
    "print(\"cluster2\",nxc2,nyc2)\n",
    "print(\"cluster3\",nxc3,nyc3)\n",
    "\n",
    "cluster1 = []\n",
    "cluster2 = []\n",
    "cluster3 = []\n",
    "\n",
    "for i,j in points:\n",
    "    eucledian_distance_1(i,j,nxc1,nyc1,nxc2,nyc2,nxc3,nyc3)\n",
    "    \n",
    "\n",
    "print(\"\\n\",clist)\n",
    "\n",
    "clist = []\n",
    "\n",
    "nxc1,nyc1 = fnc(cluster1)\n",
    "nxc2,nyc2 = fnc(cluster2)\n",
    "nxc3,nyc3 = fnc(cluster3)\n",
    "\n",
    "print(\"\\nNew centroids are\")\n",
    "print(\"cluster1\",nxc1,nyc1)\n",
    "print(\"cluster2\",nxc2,nyc2)\n",
    "print(\"cluster3\",nxc3,nyc3)\n",
    "\n",
    "cluster1 = []\n",
    "cluster2 = []\n",
    "cluster3 = []\n",
    "\n",
    "for i,j in points:\n",
    "    eucledian_distance_1(i,j,nxc1,nyc1,nxc2,nyc2,nxc3,nyc3)\n",
    "print(\"\\n\",clist)\n",
    "clist = []\n",
    "\n",
    "nxc1,nyc1 = fnc(cluster1)\n",
    "nxc2,nyc2 = fnc(cluster2)\n",
    "nxc3,nyc3 = fnc(cluster3)\n",
    "\n",
    "print(\"\\nNew centroids are\")\n",
    "print(\"cluster1\",nxc1,nyc1)\n",
    "print(\"cluster2\",nxc2,nyc2)\n",
    "print(\"cluster3\",nxc3,nyc3)\n",
    "\n",
    "cluster1 = []\n",
    "cluster2 = []\n",
    "cluster3 = []\n",
    "\n",
    "for i,j in points:\n",
    "    eucledian_distance_1(i,j,nxc1,nyc1,nxc2,nyc2,nxc3,nyc3)\n"
   ]
  },
  {
   "cell_type": "code",
   "execution_count": null,
   "metadata": {},
   "outputs": [],
   "source": []
  }
 ],
 "metadata": {
  "kernelspec": {
   "display_name": "Python 3",
   "language": "python",
   "name": "python3"
  },
  "language_info": {
   "codemirror_mode": {
    "name": "ipython",
    "version": 3
   },
   "file_extension": ".py",
   "mimetype": "text/x-python",
   "name": "python",
   "nbconvert_exporter": "python",
   "pygments_lexer": "ipython3",
   "version": "3.6.9"
  }
 },
 "nbformat": 4,
 "nbformat_minor": 2
}
