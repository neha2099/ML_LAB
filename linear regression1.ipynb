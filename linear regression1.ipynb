import pandas as pd
import matplotlib.pyplot as plt
df = pd.read_csv("/home/admn/Downloads/student_scores.csv")
df
df.plot(x="Hours", y="Scores", style="o")
plt.show()
x_mean = df["Hours"].mean()
y_mean = df["Scores"].mean()
print(x_mean, y_mean)
df["x"] = df["Hours"] - x_mean
df["y"] = df["Scores"] - y_mean
df["x*y"] = df["x"] * df["y"]
df["x^2"] = df["x"]**2
df["y^2"] = df["y"]**2
df
summation_x_y = df["x*y"].sum()
summation_x_squared = df["x^2"].sum()
summation_y_squared = df["y^2"].sum()
print(summation_x_y, summation_x_squared, summation_y_squared)
correlation = summation_x_y / (summation_x_squared * summation_y_squared)**0.5
correlation
def getMean(numbers):
    if len(numbers) == 0:
        return None
    else:
        current_sum = 0
        for i in numbers:
            current_sum += i
            current_avg = current_sum/len(numbers)
        return current_avg

def getStandardDeviation(numbers):
    if len(numbers) == 0:
        return 0
    else:
        mean = getMean(numbers)
        std_deviation = 0
        for i in numbers:
            std_deviation += (i - mean)**2
        return (std_deviation/len(numbers))**0.5
std_deviation_x = getStandardDeviation(df["x"].tolist())
std_deviation_y = getStandardDeviation(df["y"].tolist())
print(std_deviation_x, std_deviation_y)
m = correlation * (std_deviation_y / std_deviation_x)
m
c = df["Scores"].mean() - m * df["Hours"].mean()
c
df["y_prediction"] = m * df["Hours"] + c
df
plot1 = plt.scatter(df["Hours"], df["Scores"])
plot2 = plt.scatter(df["Hours"], df["y_prediction"])
plt.show()
df["y_prediction"].mean()
def getSSR(df_pred):
    result = 0
    for i in range(len(df_pred)):
        result += (df_pred[i] - df_pred.mean())**2
    return result
getSSR(df["y_prediction"])
def getSST(df_actual):
    result = 0
    for i in range(len(df_actual)):
        result += (df_actual[i] - df_actual.mean())**2
    return result
getSST(df["Scores"])
def getSSE(df_actual, df_pred):
    result = 0
    for i in range(len(df_actual)):
        result += (df_actual[i] - df_pred[i])**2
    return result
getSSE(df["Scores"], df["y_prediction"])
r2 = correlation**2
r2
r2 = getSSR(df["y_prediction"])/getSST(df["Scores"])
r2
